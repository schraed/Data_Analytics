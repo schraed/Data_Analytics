{
 "cells": [
  {
   "cell_type": "code",
   "execution_count": 1,
   "id": "228ec003",
   "metadata": {},
   "outputs": [],
   "source": [
    "from cmdstanpy import CmdStanModel\n",
    "import pandas as pd\n",
    "import arviz as az \n",
    "import numpy as np\n",
    "import matplotlib.pyplot as plt\n",
    "import scipy.stats as stats"
   ]
  },
  {
   "cell_type": "code",
   "execution_count": 7,
   "id": "9e111f69",
   "metadata": {},
   "outputs": [],
   "source": [
    "model = CmdStanModel(stan_file = 'Lab_3.stan')"
   ]
  },
  {
   "cell_type": "code",
   "execution_count": 12,
   "id": "10396ad0",
   "metadata": {},
   "outputs": [
    {
     "name": "stderr",
     "output_type": "stream",
     "text": [
      "11:36:24 - cmdstanpy - INFO - CmdStan start processing\n"
     ]
    },
    {
     "data": {
      "application/vnd.jupyter.widget-view+json": {
       "model_id": "12f3552aac6049268778853823a0a4fe",
       "version_major": 2,
       "version_minor": 0
      },
      "text/plain": [
       "chain 1 |          | 00:00 Status"
      ]
     },
     "metadata": {},
     "output_type": "display_data"
    },
    {
     "name": "stdout",
     "output_type": "stream",
     "text": [
      "                                                                                                                        "
     ]
    },
    {
     "name": "stderr",
     "output_type": "stream",
     "text": [
      "11:36:24 - cmdstanpy - INFO - CmdStan done processing.\n"
     ]
    },
    {
     "name": "stdout",
     "output_type": "stream",
     "text": [
      "\n"
     ]
    }
   ],
   "source": [
    "samples = model.sample(iter_sampling = 1000, fixed_param = True, iter_warmup = 0, chains = 1)"
   ]
  },
  {
   "cell_type": "code",
   "execution_count": 41,
   "id": "46628b8b",
   "metadata": {},
   "outputs": [
    {
     "name": "stdout",
     "output_type": "stream",
     "text": [
      "     lp__  accept_stat__     N     y         p\n",
      "0     0.0            0.0  50.0  13.0  0.324206\n",
      "1     0.0            0.0  50.0   9.0  0.240458\n",
      "2     0.0            0.0  50.0  14.0  0.254743\n",
      "3     0.0            0.0  50.0   2.0  0.064767\n",
      "4     0.0            0.0  50.0   1.0  0.048190\n",
      "..    ...            ...   ...   ...       ...\n",
      "995   0.0            0.0  50.0   0.0  0.007662\n",
      "996   0.0            0.0  50.0  12.0  0.162243\n",
      "997   0.0            0.0  50.0   2.0  0.075245\n",
      "998   0.0            0.0  50.0   4.0  0.050182\n",
      "999   0.0            0.0  50.0   4.0  0.053988\n",
      "\n",
      "[1000 rows x 5 columns]\n"
     ]
    }
   ],
   "source": [
    "df = samples.draws_pd()\n",
    "print(df)\n",
    "ratios = []\n",
    "for i in range(1000):\n",
    "    ratios.append(df.y[i]/50)"
   ]
  },
  {
   "cell_type": "code",
   "execution_count": 49,
   "id": "54dbe882",
   "metadata": {
    "scrolled": true
   },
   "outputs": [
    {
     "data": {
      "image/png": "[encoded data removed]",
      "text/plain": [
       "<Figure size 640x480 with 1 Axes>"
      ]
     },
     "metadata": {},
     "output_type": "display_data"
    }
   ],
   "source": [
    "plt.hist(ratios, bins = 20)\n",
    "plt.xlabel('Ratio of allergic reactions')\n",
    "plt.ylabel('Count')\n",
    "plt.show()"
   ]
  },
  {
   "cell_type": "code",
   "execution_count": 37,
   "id": "12c4da60",
   "metadata": {},
   "outputs": [],
   "source": [
    "mean_ratio = np.mean(ratios)"
   ]
  },
  {
   "cell_type": "code",
   "execution_count": 38,
   "id": "39244572",
   "metadata": {},
   "outputs": [
    {
     "name": "stdout",
     "output_type": "stream",
     "text": [
      "0.20234000000000002\n"
     ]
    }
   ],
   "source": [
    "print(mean_ratio)"
   ]
  },
  {
   "cell_type": "code",
   "execution_count": null,
   "id": "72fb588f",
   "metadata": {},
   "outputs": [],
   "source": []
  }
 ],
 "metadata": {
  "kernelspec": {
   "display_name": "Python 3 (ipykernel)",
   "language": "python",
   "name": "python3"
  },
  "language_info": {
   "codemirror_mode": {
    "name": "ipython",
    "version": 3
   },
   "file_extension": ".py",
   "mimetype": "text/x-python",
   "name": "python",
   "nbconvert_exporter": "python",
   "pygments_lexer": "ipython3",
   "version": "3.10.10"
  }
 },
 "nbformat": 4,
 "nbformat_minor": 5
}
